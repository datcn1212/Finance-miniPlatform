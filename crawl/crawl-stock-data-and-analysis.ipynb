{
 "cells": [
  {
   "cell_type": "code",
   "execution_count": 1,
   "metadata": {
    "execution": {
     "iopub.execute_input": "2022-11-30T16:16:38.549867Z",
     "iopub.status.busy": "2022-11-30T16:16:38.548735Z",
     "iopub.status.idle": "2022-11-30T16:16:38.555066Z",
     "shell.execute_reply": "2022-11-30T16:16:38.553484Z",
     "shell.execute_reply.started": "2022-11-30T16:16:38.549827Z"
    }
   },
   "outputs": [],
   "source": [
    "from bs4 import BeautifulSoup\n",
    "import requests\n",
    "import pandas as pd\n",
    "import re\n",
    "from matplotlib import pyplot as plt\n",
    "import numpy as np"
   ]
  },
  {
   "cell_type": "code",
   "execution_count": 2,
   "metadata": {
    "execution": {
     "iopub.execute_input": "2022-11-30T16:25:47.772206Z",
     "iopub.status.busy": "2022-11-30T16:25:47.771756Z",
     "iopub.status.idle": "2022-11-30T16:26:21.149332Z",
     "shell.execute_reply": "2022-11-30T16:26:21.148204Z",
     "shell.execute_reply.started": "2022-11-30T16:25:47.772170Z"
    }
   },
   "outputs": [
    {
     "name": "stdout",
     "output_type": "stream",
     "text": [
      "Defaulting to user installation because normal site-packages is not writeable\n",
      "Requirement already satisfied: requests in /usr/lib/python3/dist-packages (2.25.1)\n"
     ]
    }
   ],
   "source": [
    "!pip install requests"
   ]
  },
  {
   "cell_type": "code",
   "execution_count": 3,
   "metadata": {
    "execution": {
     "iopub.status.busy": "2022-11-30T16:16:58.709826Z",
     "iopub.status.idle": "2022-11-30T16:16:58.710781Z",
     "shell.execute_reply": "2022-11-30T16:16:58.710464Z",
     "shell.execute_reply.started": "2022-11-30T16:16:58.710434Z"
    }
   },
   "outputs": [
    {
     "name": "stdout",
     "output_type": "stream",
     "text": [
      "https://s.cafef.vn/hose/FPT-cong-ty-co-phan-fpt.chn\n",
      "https://s.cafef.vn/hose/VJC-cong-ty-co-phan-hang-khong-vietet.chn\n",
      "https://s.cafef.vn/hose/HVN-tong-cong-ty-hang-khong-viet-nam-ctcp.chn\n"
     ]
    }
   ],
   "source": [
    "list_com_interest = [{\"symbol\" : \"FPT\",\"link\" : 'FPT-cong-ty-co-phan-fpt.chn'},\n",
    "                     {\"symbol\" : \"VJC\",\"link\" : 'VJC-cong-ty-co-phan-hang-khong-vietet.chn'},\n",
    "                     {\"symbol\" : \"HVN\",\"link\" : 'HVN-tong-cong-ty-hang-khong-viet-nam-ctcp.chn'}]\n",
    "data = []\n",
    "for com in list_com_interest:\n",
    "    row = [com['symbol']]\n",
    "    url = 'https://s.cafef.vn/hose/{}'.format(com['link'])\n",
    "    print(url)\n",
    "    r = requests.get(url)\n",
    "    soup = BeautifulSoup(r.text, 'html.parser')\n",
    "    div_dltl = soup.find(\"div\", \"dltlu-point up\")"
   ]
  },
  {
   "cell_type": "code",
   "execution_count": 4,
   "metadata": {
    "execution": {
     "iopub.status.busy": "2022-11-30T16:16:58.712986Z",
     "iopub.status.idle": "2022-11-30T16:16:58.713883Z",
     "shell.execute_reply": "2022-11-30T16:16:58.713589Z",
     "shell.execute_reply.started": "2022-11-30T16:16:58.713558Z"
    }
   },
   "outputs": [
    {
     "name": "stdout",
     "output_type": "stream",
     "text": [
      "https://s.cafef.vn/hose/FPT-cong-ty-co-phan-fpt.chn\n",
      "https://s.cafef.vn/hose/VJC-cong-ty-co-phan-hang-khong-vietet.chn\n",
      "https://s.cafef.vn/hose/HVN-tong-cong-ty-hang-khong-viet-nam-ctcp.chn\n"
     ]
    },
    {
     "data": {
      "text/html": [
       "<div>\n",
       "<style scoped>\n",
       "    .dataframe tbody tr th:only-of-type {\n",
       "        vertical-align: middle;\n",
       "    }\n",
       "\n",
       "    .dataframe tbody tr th {\n",
       "        vertical-align: top;\n",
       "    }\n",
       "\n",
       "    .dataframe thead th {\n",
       "        text-align: right;\n",
       "    }\n",
       "</style>\n",
       "<table border=\"1\" class=\"dataframe\">\n",
       "  <thead>\n",
       "    <tr style=\"text-align: right;\">\n",
       "      <th></th>\n",
       "      <th>Symbol</th>\n",
       "      <th>Giá tham chiếu</th>\n",
       "      <th>Giá trần</th>\n",
       "      <th>Giá sàn</th>\n",
       "      <th>Giá mở cửa</th>\n",
       "    </tr>\n",
       "  </thead>\n",
       "  <tbody>\n",
       "    <tr>\n",
       "      <th>0</th>\n",
       "      <td>FPT</td>\n",
       "      <td>74.3</td>\n",
       "      <td>79.5</td>\n",
       "      <td>69.1</td>\n",
       "      <td>74.5</td>\n",
       "    </tr>\n",
       "    <tr>\n",
       "      <th>1</th>\n",
       "      <td>VJC</td>\n",
       "      <td>102.8</td>\n",
       "      <td>109.9</td>\n",
       "      <td>95.7</td>\n",
       "      <td>103</td>\n",
       "    </tr>\n",
       "    <tr>\n",
       "      <th>2</th>\n",
       "      <td>HVN</td>\n",
       "      <td>10.35</td>\n",
       "      <td>11.05</td>\n",
       "      <td>9.63</td>\n",
       "      <td>10.5</td>\n",
       "    </tr>\n",
       "  </tbody>\n",
       "</table>\n",
       "</div>"
      ],
      "text/plain": [
       "  Symbol Giá tham chiếu Giá trần Giá sàn Giá mở cửa\n",
       "0    FPT           74.3     79.5    69.1       74.5\n",
       "1    VJC          102.8    109.9    95.7        103\n",
       "2    HVN          10.35    11.05    9.63       10.5"
      ]
     },
     "execution_count": 4,
     "metadata": {},
     "output_type": "execute_result"
    }
   ],
   "source": [
    "list_com_interest = [{\"symbol\" : \"FPT\",\"link\" : 'FPT-cong-ty-co-phan-fpt.chn'},\n",
    "                     {\"symbol\" : \"VJC\",\"link\" : 'VJC-cong-ty-co-phan-hang-khong-vietet.chn'},\n",
    "                     {\"symbol\" : \"HVN\",\"link\" : 'HVN-tong-cong-ty-hang-khong-viet-nam-ctcp.chn'}]\n",
    "data = []\n",
    "for com in list_com_interest:\n",
    "    row = [com['symbol']]\n",
    "    url = 'https://s.cafef.vn/hose/{}'.format(com['link'])\n",
    "    print(url)\n",
    "    r = requests.get(url)\n",
    "    soup = BeautifulSoup(r.text, 'html.parser')\n",
    "    div_dltl = soup.find(\"div\", \"dltl-wrap\")\n",
    "    \n",
    "    if com['symbol'] == 'FPT':\n",
    "        gia_tham_chieu = div_dltl.find(class_=\"eq r\").text.strip()\n",
    "        gia_tran = div_dltl.find(class_=\"r pink\").text.strip()\n",
    "        gia_san = div_dltl.find(class_=\"r fl\").text.strip()\n",
    "        gia_mo_cua = div_dltl.find(class_=\"right up\").text.strip()\n",
    "\n",
    "    if com['symbol'] == 'VJC':\n",
    "        gia_tham_chieu = div_dltl.find(class_=\"eq r\").text.strip()\n",
    "        gia_tran = div_dltl.find(class_=\"r pink\").text.strip()\n",
    "        gia_san = div_dltl.find(class_=\"r fl\").text.strip()\n",
    "        gia_mo_cua = div_dltl.find(class_=\"right up\").text.strip()\n",
    "                                      \n",
    "    if com['symbol'] == 'HVN':\n",
    "        gia_tham_chieu = div_dltl.find(class_=\"eq r\").text.strip()\n",
    "        gia_tran = div_dltl.find(class_=\"r pink\").text.strip()\n",
    "        gia_san = div_dltl.find(class_=\"r fl\").text.strip()\n",
    "        gia_mo_cua = div_dltl.find(class_=\"right up\").text.strip()\n",
    "    d = {'Symbol': com[\"symbol\"], 'Giá tham chiếu':gia_tham_chieu, 'Giá trần':gia_tran, 'Giá sàn':gia_san, 'Giá mở cửa': gia_mo_cua}\n",
    "    data.append(d)\n",
    "df = pd.DataFrame(data)\n",
    "df\n",
    "\n"
   ]
  },
  {
   "cell_type": "code",
   "execution_count": 6,
   "metadata": {
    "execution": {
     "iopub.status.busy": "2022-11-30T16:16:58.715800Z",
     "iopub.status.idle": "2022-11-30T16:16:58.716646Z",
     "shell.execute_reply": "2022-11-30T16:16:58.716376Z",
     "shell.execute_reply.started": "2022-11-30T16:16:58.716348Z"
    }
   },
   "outputs": [
    {
     "data": {
      "image/png": "[encoded data removed]",
      "text/plain": [
       "<Figure size 640x480 with 1 Axes>"
      ]
     },
     "metadata": {},
     "output_type": "display_data"
    }
   ],
   "source": [
    "for i in range(len(df)):\n",
    "    df['Giá tham chiếu'][i] = float(df['Giá tham chiếu'][i])\n",
    "    df['Giá trần'][i] = float(df['Giá trần'][i])\n",
    "    df['Giá sàn'][i] = float(df['Giá sàn'][i])\n",
    "    df['Giá mở cửa'][i] = float(df['Giá mở cửa'][i])\n",
    "index = np.arange(len(df[\"Symbol\"]))\n",
    "fig, ax = plt.subplots()\n",
    "plt.bar(np.array(df[\"Giá tham chiếu\"]), 0.1, label = \"Giá tham chiếu\")\n",
    "plt.bar( np.array(df[\"Giá trần\"]),0.1, label = \"Giá trần\")\n",
    "plt.bar( np.array(df[\"Giá sàn\"]),0.1, label = \"Giá sàn\")\n",
    "plt.bar( np.array(df[\"Giá mở cửa\"]),0.1, label = \"Giá mở cửa\")\n",
    "\n",
    "ax.set_xlabel('Symbol')\n",
    "ax.set_xticks(index)\n",
    "ax.set_xticklabels(('FPT', 'VJC', 'HVN'))\n",
    "ax.legend()\n",
    "plt.xticks()\n",
    "plt.show()"
   ]
  },
  {
   "cell_type": "code",
   "execution_count": null,
   "metadata": {
    "execution": {
     "iopub.status.busy": "2022-11-30T16:16:58.718341Z",
     "iopub.status.idle": "2022-11-30T16:16:58.719200Z",
     "shell.execute_reply": "2022-11-30T16:16:58.718933Z",
     "shell.execute_reply.started": "2022-11-30T16:16:58.718904Z"
    }
   },
   "outputs": [],
   "source": [
    "index = np.arange(len(df[\"Symbol\"]))\n",
    "print(index)\n",
    "fig, ax = plt.subplots()\n",
    "plt.bar(np.array(df[\"Giá tham chiếu\"]), 0.1, label = \"Giá tham chiếu\")"
   ]
  },
  {
   "cell_type": "code",
   "execution_count": null,
   "metadata": {},
   "outputs": [],
   "source": []
  },
  {
   "cell_type": "code",
   "execution_count": null,
   "metadata": {},
   "outputs": [],
   "source": []
  }
 ],
 "metadata": {
  "kernelspec": {
   "display_name": "Python 3 (ipykernel)",
   "language": "python",
   "name": "python3"
  },
  "language_info": {
   "codemirror_mode": {
    "name": "ipython",
    "version": 3
   },
   "file_extension": ".py",
   "mimetype": "text/x-python",
   "name": "python",
   "nbconvert_exporter": "python",
   "pygments_lexer": "ipython3",
   "version": "3.10.6"
  }
 },
 "nbformat": 4,
 "nbformat_minor": 4
}
